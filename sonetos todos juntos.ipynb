{
 "cells": [
  {
   "cell_type": "code",
   "execution_count": 124,
   "metadata": {},
   "outputs": [
    {
     "name": "stdout",
     "output_type": "stream",
     "text": [
      "The autoreload extension is already loaded. To reload it, use:\n",
      "  %reload_ext autoreload\n"
     ]
    }
   ],
   "source": [
    "%load_ext autoreload\n",
    "%autoreload 2"
   ]
  },
  {
   "cell_type": "code",
   "execution_count": null,
   "metadata": {},
   "outputs": [],
   "source": []
  },
  {
   "cell_type": "code",
   "execution_count": 125,
   "metadata": {},
   "outputs": [],
   "source": [
    "import numpy as np"
   ]
  },
  {
   "cell_type": "code",
   "execution_count": 126,
   "metadata": {},
   "outputs": [],
   "source": [
    "raw_text = open('cien sonetos de amor.txt').readlines()"
   ]
  },
  {
   "cell_type": "code",
   "execution_count": 127,
   "metadata": {},
   "outputs": [
    {
     "data": {
      "text/plain": [
       "['Soneto I \\n',\n",
       " '\\n',\n",
       " 'Matilde, nombre de planta o piedra o vino, \\n',\n",
       " 'de lo que nace de la tierra y dura, \\n',\n",
       " 'palabra en cuyo crecimiento amanece, \\n',\n",
       " 'en cuyo estío estalla la luz de los limones. \\n',\n",
       " '\\n',\n",
       " 'En ese nombre corren navíos de madera \\n',\n",
       " 'rodeados por enjambres de fuego azul marino, \\n',\n",
       " 'y esas letras son el agua de un río \\n',\n",
       " 'que desemboca en mi corazón calcinado. \\n',\n",
       " '\\n',\n",
       " '¡Oh nombre descubierto bajo una enredadera \\n',\n",
       " 'como la puerta de un túnel desconocido \\n',\n",
       " 'que comunica con la fragancia del mundo! \\n',\n",
       " '\\n',\n",
       " 'Oh invádeme con tu boca abrasadora, \\n',\n",
       " 'indágame, si quieres, con tus ojos nocturnos, \\n',\n",
       " 'pero en tu nombre déjame navegar y dormir.\\n',\n",
       " '\\n']"
      ]
     },
     "execution_count": 127,
     "metadata": {},
     "output_type": "execute_result"
    }
   ],
   "source": [
    "raw_text[:20]"
   ]
  },
  {
   "cell_type": "code",
   "execution_count": 128,
   "metadata": {},
   "outputs": [],
   "source": [
    "def replace_chars(line):\n",
    "    return line.replace(' \\n', '\\n') \\\n",
    "        .replace('    ', ' ') \\\n",
    "        .replace('   ', ' ') \\\n",
    "        .replace('  ', ' ') \\\n",
    "        .replace('(', 'char_open_parent') \\\n",
    "        .replace(')', 'char_close_parent') \\\n",
    "        .replace('\\n', ' char_new_line ') \\\n",
    "        .replace('.', ' char_dot ') \\\n",
    "        .replace(',', ' char_comma ') \\\n",
    "        .replace('¡', ' char_exclamation_open ') \\\n",
    "        .replace('!', ' char_exclamation_close ') \\\n",
    "        .replace('¿', ' char_question_open ') \\\n",
    "        .replace('?', ' char_question_close ') \\\n",
    "        .replace(':', ' char_dos_puntos ') \n",
    "      #.replace('«', '\"')\n",
    "      #.replace('»', '\"')\n",
    "      #.replace('-', 'char_guion_medio')\n",
    "      #.replace('\"', ' char_comillas ')\n",
    "                             "
   ]
  },
  {
   "cell_type": "code",
   "execution_count": 129,
   "metadata": {},
   "outputs": [],
   "source": [
    "def clean_raw_text_and_verify(raw_text):\n",
    "    cont_elem = len(raw_text)\n",
    "    i = 0\n",
    "    raw_text_no_cr = []\n",
    "    versos_count = 0\n",
    "    soneto_nro = 0\n",
    "    estructura = []\n",
    "    while (i<cont_elem):\n",
    "        if raw_text[i][:7] == 'Soneto ':\n",
    "            # Es el titulo\n",
    "            i += 1\n",
    "            soneto_nro += 1\n",
    "            # Saco enters despues de Soneto XX\n",
    "            while raw_text[i]=='\\n':\n",
    "                i += 1\n",
    "            raw_text_no_cr.append(' START_SONETO ')\n",
    "\n",
    "        if raw_text[i]=='\\n':\n",
    "            # Fin estrofa\n",
    "            raw_text_no_cr.append(replace_chars('\\n'))\n",
    "            estructura.append(versos_count)\n",
    "            versos_count=0\n",
    "            if len(estructura)==4:\n",
    "                # Fin soneto\n",
    "                if estructura!=[4, 4, 3, 3]:\n",
    "                    print('Soneto', soneto_nro)\n",
    "                    print('estructura', estructura)\n",
    "                estructura = []\n",
    "                raw_text_no_cr.append(' END_SONETO ')\n",
    "                # Saco todos los enters antes de Soneto XX\n",
    "                while raw_text[i]=='\\n':\n",
    "                    i += 1\n",
    "            else: i += 1\n",
    "                #print(raw_text[i])\n",
    "        elif raw_text[i][:7] != 'Soneto ':\n",
    "            # Es un verso\n",
    "            versos_count = versos_count + 1\n",
    "            raw_text_no_cr.append(replace_chars(raw_text[i]))\n",
    "            i += 1\n",
    "    if (raw_text_no_cr[-1]!=' END_SONETO '):\n",
    "        raw_text_no_cr.append(' END_SONETO ')\n",
    "    return raw_text_no_cr"
   ]
  },
  {
   "cell_type": "code",
   "execution_count": 130,
   "metadata": {},
   "outputs": [],
   "source": [
    "raw_text_no_cr = clean_raw_text_and_verify(raw_text)"
   ]
  },
  {
   "cell_type": "code",
   "execution_count": 131,
   "metadata": {},
   "outputs": [],
   "source": [
    "# Junto todo el texto para meterlo en el vectorizer\n",
    "all_text = ''.join(raw_text_no_cr).lower()"
   ]
  },
  {
   "cell_type": "code",
   "execution_count": 132,
   "metadata": {},
   "outputs": [],
   "source": [
    "import re\n",
    "def find_uncoded_stuff(all_text):\n",
    "    separators = re.compile('(?u)\\\\b\\\\w+\\\\b').split(all_text)\n",
    "    for s in separators:\n",
    "        for c in s:\n",
    "            if c!=' ':\n",
    "                print('char=',c, 'code=',ord(c))"
   ]
  },
  {
   "cell_type": "code",
   "execution_count": 133,
   "metadata": {},
   "outputs": [],
   "source": [
    "find_uncoded_stuff(all_text)"
   ]
  },
  {
   "cell_type": "code",
   "execution_count": 134,
   "metadata": {},
   "outputs": [],
   "source": [
    "text_array_as_words = re.findall('(?u)\\\\b\\\\w+\\\\b', all_text)"
   ]
  },
  {
   "cell_type": "code",
   "execution_count": 137,
   "metadata": {},
   "outputs": [
    {
     "data": {
      "text/plain": [
       "['start_soneto',\n",
       " 'matilde',\n",
       " 'char_comma',\n",
       " 'nombre',\n",
       " 'de',\n",
       " 'planta',\n",
       " 'o',\n",
       " 'piedra',\n",
       " 'o',\n",
       " 'vino',\n",
       " 'char_comma',\n",
       " 'char_new_line',\n",
       " 'de',\n",
       " 'lo',\n",
       " 'que',\n",
       " 'nace',\n",
       " 'de',\n",
       " 'la',\n",
       " 'tierra',\n",
       " 'y',\n",
       " 'dura',\n",
       " 'char_comma',\n",
       " 'char_new_line',\n",
       " 'palabra',\n",
       " 'en',\n",
       " 'cuyo',\n",
       " 'crecimiento',\n",
       " 'amanece',\n",
       " 'char_comma',\n",
       " 'char_new_line',\n",
       " 'en',\n",
       " 'cuyo',\n",
       " 'estío',\n",
       " 'estalla',\n",
       " 'la',\n",
       " 'luz',\n",
       " 'de',\n",
       " 'los',\n",
       " 'limones',\n",
       " 'char_dot',\n",
       " 'char_new_line',\n",
       " 'char_new_line',\n",
       " 'en',\n",
       " 'ese',\n",
       " 'nombre',\n",
       " 'corren',\n",
       " 'navíos',\n",
       " 'de',\n",
       " 'madera',\n",
       " 'char_new_line',\n",
       " 'rodeados',\n",
       " 'por',\n",
       " 'enjambres',\n",
       " 'de',\n",
       " 'fuego',\n",
       " 'azul',\n",
       " 'marino',\n",
       " 'char_comma',\n",
       " 'char_new_line',\n",
       " 'y',\n",
       " 'esas',\n",
       " 'letras',\n",
       " 'son',\n",
       " 'el',\n",
       " 'agua',\n",
       " 'de',\n",
       " 'un',\n",
       " 'río',\n",
       " 'char_new_line',\n",
       " 'que',\n",
       " 'desemboca',\n",
       " 'en',\n",
       " 'mi',\n",
       " 'corazón',\n",
       " 'calcinado',\n",
       " 'char_dot',\n",
       " 'char_new_line',\n",
       " 'char_new_line',\n",
       " 'char_exclamation_open',\n",
       " 'oh',\n",
       " 'nombre',\n",
       " 'descubierto',\n",
       " 'bajo',\n",
       " 'una',\n",
       " 'enredadera',\n",
       " 'char_new_line',\n",
       " 'como',\n",
       " 'la',\n",
       " 'puerta',\n",
       " 'de',\n",
       " 'un',\n",
       " 'túnel',\n",
       " 'desconocido',\n",
       " 'char_new_line',\n",
       " 'que',\n",
       " 'comunica',\n",
       " 'con',\n",
       " 'la',\n",
       " 'fragancia',\n",
       " 'del']"
      ]
     },
     "execution_count": 137,
     "metadata": {},
     "output_type": "execute_result"
    }
   ],
   "source": [
    "text_array_as_words[:100]"
   ]
  },
  {
   "cell_type": "code",
   "execution_count": 136,
   "metadata": {},
   "outputs": [],
   "source": [
    "from collections import Counter"
   ]
  },
  {
   "cell_type": "code",
   "execution_count": 14,
   "metadata": {},
   "outputs": [
    {
     "data": {
      "text/plain": [
       "[('char_new_line', 1798),\n",
       " ('char_comma', 1014),\n",
       " ('la', 475),\n",
       " ('de', 456),\n",
       " ('y', 413),\n",
       " ('char_dot', 371),\n",
       " ('el', 313),\n",
       " ('que', 261),\n",
       " ('en', 227),\n",
       " ('tu', 166),\n",
       " ('del', 165),\n",
       " ('las', 134),\n",
       " ('a', 132),\n",
       " ('por', 130),\n",
       " ('con', 120),\n",
       " ('no', 120),\n",
       " ('los', 117),\n",
       " ('como', 117),\n",
       " ('start_soneto', 100),\n",
       " ('end_soneto', 100),\n",
       " ('un', 95),\n",
       " ('amor', 93),\n",
       " ('char_dos_puntos', 89),\n",
       " ('mi', 87),\n",
       " ('una', 85),\n",
       " ('tus', 82),\n",
       " ('te', 82),\n",
       " ('se', 70),\n",
       " ('su', 69),\n",
       " ('sin', 61),\n",
       " ('es', 54),\n",
       " ('yo', 48),\n",
       " ('o', 46),\n",
       " ('luz', 46),\n",
       " ('tú', 44),\n",
       " ('tierra', 39),\n",
       " ('agua', 39),\n",
       " ('ojos', 38),\n",
       " ('me', 37),\n",
       " ('mar', 35),\n",
       " ('si', 34),\n",
       " ('noche', 34),\n",
       " ('para', 34),\n",
       " ('sus', 34),\n",
       " ('hasta', 33),\n",
       " ('sólo', 33),\n",
       " ('al', 33),\n",
       " ('corazón', 32),\n",
       " ('eres', 32),\n",
       " ('ni', 31),\n",
       " ('porque', 31),\n",
       " ('cielo', 30),\n",
       " ('fuego', 28),\n",
       " ('sombra', 28),\n",
       " ('amo', 27),\n",
       " ('todo', 26),\n",
       " ('boca', 25),\n",
       " ('sino', 25),\n",
       " ('vida', 25),\n",
       " ('manos', 25),\n",
       " ('oh', 24),\n",
       " ('cuando', 24),\n",
       " ('vez', 24),\n",
       " ('luna', 24),\n",
       " ('día', 24),\n",
       " ('mis', 24),\n",
       " ('donde', 23),\n",
       " ('tiempo', 23),\n",
       " ('así', 23),\n",
       " ('char_exclamation_open', 22),\n",
       " ('char_exclamation_close', 22),\n",
       " ('entre', 22),\n",
       " ('sol', 21),\n",
       " ('pan', 21),\n",
       " ('sobre', 21),\n",
       " ('dos', 20),\n",
       " ('lo', 19),\n",
       " ('mí', 19),\n",
       " ('sangre', 19),\n",
       " ('pero', 18),\n",
       " ('desde', 18),\n",
       " ('ser', 18),\n",
       " ('tal', 17),\n",
       " ('quiero', 17),\n",
       " ('sueño', 17),\n",
       " ('voz', 16),\n",
       " ('arena', 16),\n",
       " ('más', 16),\n",
       " ('nos', 16),\n",
       " ('piedra', 15),\n",
       " ('mundo', 15),\n",
       " ('allí', 15),\n",
       " ('trigo', 15),\n",
       " ('nadie', 15),\n",
       " ('sola', 15),\n",
       " ('hacia', 15),\n",
       " ('casa', 15),\n",
       " ('este', 14),\n",
       " ('ya', 14),\n",
       " ('esta', 14)]"
      ]
     },
     "execution_count": 14,
     "metadata": {},
     "output_type": "execute_result"
    }
   ],
   "source": [
    "Counter(text_array_as_words).most_common(100)"
   ]
  },
  {
   "cell_type": "code",
   "execution_count": 15,
   "metadata": {},
   "outputs": [],
   "source": [
    "vocab = list(Counter(text_array_as_words))"
   ]
  },
  {
   "cell_type": "code",
   "execution_count": 360,
   "metadata": {},
   "outputs": [
    {
     "data": {
      "text/plain": [
       "0.1826669517496971"
      ]
     },
     "execution_count": 360,
     "metadata": {},
     "output_type": "execute_result"
    }
   ],
   "source": [
    "len(vocab)/len(text_array_as_words)"
   ]
  },
  {
   "cell_type": "code",
   "execution_count": 17,
   "metadata": {},
   "outputs": [],
   "source": [
    "# Arrancamos desde 1 para el padding\n",
    "word_to_index = {word:i+1 for i, word in enumerate(vocab)}\n",
    "index_to_word = {i+1:word for i, word in enumerate(vocab)}"
   ]
  },
  {
   "cell_type": "code",
   "execution_count": 18,
   "metadata": {},
   "outputs": [],
   "source": [
    "coded_text = [word_to_index[word] for word in text_array_as_words]"
   ]
  },
  {
   "cell_type": "code",
   "execution_count": 19,
   "metadata": {},
   "outputs": [
    {
     "name": "stdout",
     "output_type": "stream",
     "text": [
      "[1, 2, 3, 4, 5, 6, 7, 8, 7, 9, 3, 10, 5, 11, 12, 13, 5, 14, 15, 16, 17, 3, 10, 18, 19, 20, 21, 22, 3, 10, 19, 20, 23, 24, 14, 25, 5, 26, 27, 28, 10, 10, 19, 29, 4, 30, 31, 5, 32, 10]\n"
     ]
    }
   ],
   "source": [
    "print(coded_text[:50])"
   ]
  },
  {
   "cell_type": "code",
   "execution_count": 20,
   "metadata": {},
   "outputs": [
    {
     "data": {
      "text/plain": [
       "2563"
      ]
     },
     "execution_count": 20,
     "metadata": {},
     "output_type": "execute_result"
    }
   ],
   "source": [
    "len(set(coded_text))"
   ]
  },
  {
   "cell_type": "markdown",
   "metadata": {},
   "source": [
    "## Primeras pruebas con una ventana de 5 palabras\n",
    "Todo el texto junto, no separo en poemas"
   ]
  },
  {
   "cell_type": "code",
   "execution_count": 110,
   "metadata": {},
   "outputs": [],
   "source": [
    "def format_coded_text_in_sentences(coded_text, window = 5, step = 1):\n",
    "    sentences = []\n",
    "    next_chars = []\n",
    "    for i in range(0, len(coded_text) - window, step):\n",
    "        sentences.append(coded_text[i: i + window])\n",
    "        next_chars.append(coded_text[i + window])\n",
    "    return sentences, next_chars"
   ]
  },
  {
   "cell_type": "code",
   "execution_count": 111,
   "metadata": {},
   "outputs": [],
   "source": [
    "X_train_pre, y_train_pre = format_coded_text_in_sentences(coded_text)"
   ]
  },
  {
   "cell_type": "code",
   "execution_count": 112,
   "metadata": {},
   "outputs": [],
   "source": [
    "from keras.utils import to_categorical"
   ]
  },
  {
   "cell_type": "code",
   "execution_count": 113,
   "metadata": {},
   "outputs": [
    {
     "data": {
      "text/plain": [
       "(14026, 2563)"
      ]
     },
     "execution_count": 113,
     "metadata": {},
     "output_type": "execute_result"
    }
   ],
   "source": [
    "to_categorical(np.array(y_train_pre)-1).shape"
   ]
  },
  {
   "cell_type": "code",
   "execution_count": 114,
   "metadata": {},
   "outputs": [],
   "source": [
    "x_train = np.array(X_train_pre)\n",
    "y_train = to_categorical(np.array(y_train_pre)-1)"
   ]
  },
  {
   "cell_type": "code",
   "execution_count": 115,
   "metadata": {},
   "outputs": [
    {
     "data": {
      "text/plain": [
       "(2563,)"
      ]
     },
     "execution_count": 115,
     "metadata": {},
     "output_type": "execute_result"
    }
   ],
   "source": [
    "y_train[0].shape"
   ]
  },
  {
   "cell_type": "code",
   "execution_count": 116,
   "metadata": {},
   "outputs": [
    {
     "data": {
      "text/plain": [
       "[[1, 2, 3, 4, 5],\n",
       " [2, 3, 4, 5, 6],\n",
       " [3, 4, 5, 6, 7],\n",
       " [4, 5, 6, 7, 8],\n",
       " [5, 6, 7, 8, 7],\n",
       " [6, 7, 8, 7, 9],\n",
       " [7, 8, 7, 9, 3],\n",
       " [8, 7, 9, 3, 10],\n",
       " [7, 9, 3, 10, 5],\n",
       " [9, 3, 10, 5, 11]]"
      ]
     },
     "execution_count": 116,
     "metadata": {},
     "output_type": "execute_result"
    }
   ],
   "source": [
    "X_train_pre[:10]"
   ]
  },
  {
   "cell_type": "code",
   "execution_count": 138,
   "metadata": {},
   "outputs": [],
   "source": [
    "from keras.models import Sequential\n",
    "from keras.layers import Embedding, LSTM, Dense\n",
    "from fnn_helper import PlotLosses"
   ]
  },
  {
   "cell_type": "code",
   "execution_count": 118,
   "metadata": {},
   "outputs": [
    {
     "data": {
      "text/plain": [
       "(14026, 5)"
      ]
     },
     "execution_count": 118,
     "metadata": {},
     "output_type": "execute_result"
    }
   ],
   "source": [
    "x_train.shape"
   ]
  },
  {
   "cell_type": "code",
   "execution_count": 119,
   "metadata": {},
   "outputs": [
    {
     "data": {
      "text/plain": [
       "(14026, 2563)"
      ]
     },
     "execution_count": 119,
     "metadata": {},
     "output_type": "execute_result"
    }
   ],
   "source": [
    "y_train.shape"
   ]
  },
  {
   "cell_type": "code",
   "execution_count": 120,
   "metadata": {},
   "outputs": [],
   "source": [
    "from models import get_model_1"
   ]
  },
  {
   "cell_type": "code",
   "execution_count": 121,
   "metadata": {},
   "outputs": [
    {
     "data": {
      "text/plain": [
       "2563"
      ]
     },
     "execution_count": 121,
     "metadata": {},
     "output_type": "execute_result"
    }
   ],
   "source": [
    "len(vocab)"
   ]
  },
  {
   "cell_type": "code",
   "execution_count": 122,
   "metadata": {},
   "outputs": [
    {
     "name": "stdout",
     "output_type": "stream",
     "text": [
      "_________________________________________________________________\n",
      "Layer (type)                 Output Shape              Param #   \n",
      "=================================================================\n",
      "embedding_6 (Embedding)      (None, None, 64)          164096    \n",
      "_________________________________________________________________\n",
      "lstm_6 (LSTM)                (None, 100)               66000     \n",
      "_________________________________________________________________\n",
      "dense_6 (Dense)              (None, 2563)              258863    \n",
      "=================================================================\n",
      "Total params: 488,959\n",
      "Trainable params: 488,959\n",
      "Non-trainable params: 0\n",
      "_________________________________________________________________\n"
     ]
    }
   ],
   "source": [
    "model1 = get_model_1(len(vocab))\n",
    "model1.summary()"
   ]
  },
  {
   "cell_type": "code",
   "execution_count": 139,
   "metadata": {},
   "outputs": [],
   "source": [
    "plot_losses = PlotLosses(plot_interval=1, evaluate_interval=None)"
   ]
  },
  {
   "cell_type": "code",
   "execution_count": 140,
   "metadata": {},
   "outputs": [
    {
     "data": {
      "image/png": "[encoded data removed]",
      "text/plain": [
       "<matplotlib.figure.Figure at 0x17a7de710>"
      ]
     },
     "metadata": {},
     "output_type": "display_data"
    },
    {
     "name": "stdout",
     "output_type": "stream",
     "text": [
      "14026/14026 [==============================] - 9s 637us/step - loss: 0.0698 - acc: 0.9804\n",
      "Epoch 115/400\n",
      " 2560/14026 [====>.........................] - ETA: 7s - loss: 0.0568 - acc: 0.9840"
     ]
    },
    {
     "ename": "KeyboardInterrupt",
     "evalue": "",
     "output_type": "error",
     "traceback": [
      "\u001b[0;31m---------------------------------------------------------------------------\u001b[0m",
      "\u001b[0;31mKeyboardInterrupt\u001b[0m                         Traceback (most recent call last)",
      "\u001b[0;32m<ipython-input-140-7c36de10e2ed>\u001b[0m in \u001b[0;36m<module>\u001b[0;34m()\u001b[0m\n\u001b[1;32m      1\u001b[0m \u001b[0mmodel1\u001b[0m\u001b[0;34m.\u001b[0m\u001b[0mcompile\u001b[0m\u001b[0;34m(\u001b[0m\u001b[0mloss\u001b[0m\u001b[0;34m=\u001b[0m\u001b[0;34m'categorical_crossentropy'\u001b[0m\u001b[0;34m,\u001b[0m \u001b[0moptimizer\u001b[0m\u001b[0;34m=\u001b[0m\u001b[0;34m'rmsprop'\u001b[0m\u001b[0;34m,\u001b[0m \u001b[0mmetrics\u001b[0m\u001b[0;34m=\u001b[0m\u001b[0;34m[\u001b[0m\u001b[0;34m'accuracy'\u001b[0m\u001b[0;34m]\u001b[0m\u001b[0;34m)\u001b[0m\u001b[0;34m\u001b[0m\u001b[0m\n\u001b[0;32m----> 2\u001b[0;31m \u001b[0mmodel1\u001b[0m\u001b[0;34m.\u001b[0m\u001b[0mfit\u001b[0m\u001b[0;34m(\u001b[0m\u001b[0mx_train\u001b[0m\u001b[0;34m,\u001b[0m \u001b[0my_train\u001b[0m\u001b[0;34m,\u001b[0m \u001b[0mbatch_size\u001b[0m\u001b[0;34m=\u001b[0m\u001b[0;36m256\u001b[0m\u001b[0;34m,\u001b[0m \u001b[0mepochs\u001b[0m\u001b[0;34m=\u001b[0m\u001b[0;36m400\u001b[0m\u001b[0;34m,\u001b[0m \u001b[0mverbose\u001b[0m \u001b[0;34m=\u001b[0m \u001b[0;36m1\u001b[0m\u001b[0;34m,\u001b[0m \u001b[0mcallbacks\u001b[0m\u001b[0;34m=\u001b[0m\u001b[0;34m[\u001b[0m\u001b[0mplot_losses\u001b[0m\u001b[0;34m]\u001b[0m\u001b[0;34m)\u001b[0m\u001b[0;34m\u001b[0m\u001b[0m\n\u001b[0m",
      "\u001b[0;32m~/anaconda3/envs/mllab/lib/python3.6/site-packages/keras/models.py\u001b[0m in \u001b[0;36mfit\u001b[0;34m(self, x, y, batch_size, epochs, verbose, callbacks, validation_split, validation_data, shuffle, class_weight, sample_weight, initial_epoch, steps_per_epoch, validation_steps, **kwargs)\u001b[0m\n\u001b[1;32m    958\u001b[0m                               \u001b[0minitial_epoch\u001b[0m\u001b[0;34m=\u001b[0m\u001b[0minitial_epoch\u001b[0m\u001b[0;34m,\u001b[0m\u001b[0;34m\u001b[0m\u001b[0m\n\u001b[1;32m    959\u001b[0m                               \u001b[0msteps_per_epoch\u001b[0m\u001b[0;34m=\u001b[0m\u001b[0msteps_per_epoch\u001b[0m\u001b[0;34m,\u001b[0m\u001b[0;34m\u001b[0m\u001b[0m\n\u001b[0;32m--> 960\u001b[0;31m                               validation_steps=validation_steps)\n\u001b[0m\u001b[1;32m    961\u001b[0m \u001b[0;34m\u001b[0m\u001b[0m\n\u001b[1;32m    962\u001b[0m     def evaluate(self, x, y, batch_size=32, verbose=1,\n",
      "\u001b[0;32m~/anaconda3/envs/mllab/lib/python3.6/site-packages/keras/engine/training.py\u001b[0m in \u001b[0;36mfit\u001b[0;34m(self, x, y, batch_size, epochs, verbose, callbacks, validation_split, validation_data, shuffle, class_weight, sample_weight, initial_epoch, steps_per_epoch, validation_steps, **kwargs)\u001b[0m\n\u001b[1;32m   1655\u001b[0m                               \u001b[0minitial_epoch\u001b[0m\u001b[0;34m=\u001b[0m\u001b[0minitial_epoch\u001b[0m\u001b[0;34m,\u001b[0m\u001b[0;34m\u001b[0m\u001b[0m\n\u001b[1;32m   1656\u001b[0m                               \u001b[0msteps_per_epoch\u001b[0m\u001b[0;34m=\u001b[0m\u001b[0msteps_per_epoch\u001b[0m\u001b[0;34m,\u001b[0m\u001b[0;34m\u001b[0m\u001b[0m\n\u001b[0;32m-> 1657\u001b[0;31m                               validation_steps=validation_steps)\n\u001b[0m\u001b[1;32m   1658\u001b[0m \u001b[0;34m\u001b[0m\u001b[0m\n\u001b[1;32m   1659\u001b[0m     def evaluate(self, x=None, y=None,\n",
      "\u001b[0;32m~/anaconda3/envs/mllab/lib/python3.6/site-packages/keras/engine/training.py\u001b[0m in \u001b[0;36m_fit_loop\u001b[0;34m(self, f, ins, out_labels, batch_size, epochs, verbose, callbacks, val_f, val_ins, shuffle, callback_metrics, initial_epoch, steps_per_epoch, validation_steps)\u001b[0m\n\u001b[1;32m   1211\u001b[0m                     \u001b[0mbatch_logs\u001b[0m\u001b[0;34m[\u001b[0m\u001b[0;34m'size'\u001b[0m\u001b[0;34m]\u001b[0m \u001b[0;34m=\u001b[0m \u001b[0mlen\u001b[0m\u001b[0;34m(\u001b[0m\u001b[0mbatch_ids\u001b[0m\u001b[0;34m)\u001b[0m\u001b[0;34m\u001b[0m\u001b[0m\n\u001b[1;32m   1212\u001b[0m                     \u001b[0mcallbacks\u001b[0m\u001b[0;34m.\u001b[0m\u001b[0mon_batch_begin\u001b[0m\u001b[0;34m(\u001b[0m\u001b[0mbatch_index\u001b[0m\u001b[0;34m,\u001b[0m \u001b[0mbatch_logs\u001b[0m\u001b[0;34m)\u001b[0m\u001b[0;34m\u001b[0m\u001b[0m\n\u001b[0;32m-> 1213\u001b[0;31m                     \u001b[0mouts\u001b[0m \u001b[0;34m=\u001b[0m \u001b[0mf\u001b[0m\u001b[0;34m(\u001b[0m\u001b[0mins_batch\u001b[0m\u001b[0;34m)\u001b[0m\u001b[0;34m\u001b[0m\u001b[0m\n\u001b[0m\u001b[1;32m   1214\u001b[0m                     \u001b[0;32mif\u001b[0m \u001b[0;32mnot\u001b[0m \u001b[0misinstance\u001b[0m\u001b[0;34m(\u001b[0m\u001b[0mouts\u001b[0m\u001b[0;34m,\u001b[0m \u001b[0mlist\u001b[0m\u001b[0;34m)\u001b[0m\u001b[0;34m:\u001b[0m\u001b[0;34m\u001b[0m\u001b[0m\n\u001b[1;32m   1215\u001b[0m                         \u001b[0mouts\u001b[0m \u001b[0;34m=\u001b[0m \u001b[0;34m[\u001b[0m\u001b[0mouts\u001b[0m\u001b[0;34m]\u001b[0m\u001b[0;34m\u001b[0m\u001b[0m\n",
      "\u001b[0;32m~/anaconda3/envs/mllab/lib/python3.6/site-packages/keras/backend/tensorflow_backend.py\u001b[0m in \u001b[0;36m__call__\u001b[0;34m(self, inputs)\u001b[0m\n\u001b[1;32m   2355\u001b[0m         \u001b[0msession\u001b[0m \u001b[0;34m=\u001b[0m \u001b[0mget_session\u001b[0m\u001b[0;34m(\u001b[0m\u001b[0;34m)\u001b[0m\u001b[0;34m\u001b[0m\u001b[0m\n\u001b[1;32m   2356\u001b[0m         updated = session.run(fetches=fetches, feed_dict=feed_dict,\n\u001b[0;32m-> 2357\u001b[0;31m                               **self.session_kwargs)\n\u001b[0m\u001b[1;32m   2358\u001b[0m         \u001b[0;32mreturn\u001b[0m \u001b[0mupdated\u001b[0m\u001b[0;34m[\u001b[0m\u001b[0;34m:\u001b[0m\u001b[0mlen\u001b[0m\u001b[0;34m(\u001b[0m\u001b[0mself\u001b[0m\u001b[0;34m.\u001b[0m\u001b[0moutputs\u001b[0m\u001b[0;34m)\u001b[0m\u001b[0;34m]\u001b[0m\u001b[0;34m\u001b[0m\u001b[0m\n\u001b[1;32m   2359\u001b[0m \u001b[0;34m\u001b[0m\u001b[0m\n",
      "\u001b[0;32m~/anaconda3/envs/mllab/lib/python3.6/site-packages/tensorflow/python/client/session.py\u001b[0m in \u001b[0;36mrun\u001b[0;34m(self, fetches, feed_dict, options, run_metadata)\u001b[0m\n\u001b[1;32m    765\u001b[0m     \u001b[0;32mtry\u001b[0m\u001b[0;34m:\u001b[0m\u001b[0;34m\u001b[0m\u001b[0m\n\u001b[1;32m    766\u001b[0m       result = self._run(None, fetches, feed_dict, options_ptr,\n\u001b[0;32m--> 767\u001b[0;31m                          run_metadata_ptr)\n\u001b[0m\u001b[1;32m    768\u001b[0m       \u001b[0;32mif\u001b[0m \u001b[0mrun_metadata\u001b[0m\u001b[0;34m:\u001b[0m\u001b[0;34m\u001b[0m\u001b[0m\n\u001b[1;32m    769\u001b[0m         \u001b[0mproto_data\u001b[0m \u001b[0;34m=\u001b[0m \u001b[0mtf_session\u001b[0m\u001b[0;34m.\u001b[0m\u001b[0mTF_GetBuffer\u001b[0m\u001b[0;34m(\u001b[0m\u001b[0mrun_metadata_ptr\u001b[0m\u001b[0;34m)\u001b[0m\u001b[0;34m\u001b[0m\u001b[0m\n",
      "\u001b[0;32m~/anaconda3/envs/mllab/lib/python3.6/site-packages/tensorflow/python/client/session.py\u001b[0m in \u001b[0;36m_run\u001b[0;34m(self, handle, fetches, feed_dict, options, run_metadata)\u001b[0m\n\u001b[1;32m    963\u001b[0m     \u001b[0;32mif\u001b[0m \u001b[0mfinal_fetches\u001b[0m \u001b[0;32mor\u001b[0m \u001b[0mfinal_targets\u001b[0m\u001b[0;34m:\u001b[0m\u001b[0;34m\u001b[0m\u001b[0m\n\u001b[1;32m    964\u001b[0m       results = self._do_run(handle, final_targets, final_fetches,\n\u001b[0;32m--> 965\u001b[0;31m                              feed_dict_string, options, run_metadata)\n\u001b[0m\u001b[1;32m    966\u001b[0m     \u001b[0;32melse\u001b[0m\u001b[0;34m:\u001b[0m\u001b[0;34m\u001b[0m\u001b[0m\n\u001b[1;32m    967\u001b[0m       \u001b[0mresults\u001b[0m \u001b[0;34m=\u001b[0m \u001b[0;34m[\u001b[0m\u001b[0;34m]\u001b[0m\u001b[0;34m\u001b[0m\u001b[0m\n",
      "\u001b[0;32m~/anaconda3/envs/mllab/lib/python3.6/site-packages/tensorflow/python/client/session.py\u001b[0m in \u001b[0;36m_do_run\u001b[0;34m(self, handle, target_list, fetch_list, feed_dict, options, run_metadata)\u001b[0m\n\u001b[1;32m   1013\u001b[0m     \u001b[0;32mif\u001b[0m \u001b[0mhandle\u001b[0m \u001b[0;32mis\u001b[0m \u001b[0;32mNone\u001b[0m\u001b[0;34m:\u001b[0m\u001b[0;34m\u001b[0m\u001b[0m\n\u001b[1;32m   1014\u001b[0m       return self._do_call(_run_fn, self._session, feed_dict, fetch_list,\n\u001b[0;32m-> 1015\u001b[0;31m                            target_list, options, run_metadata)\n\u001b[0m\u001b[1;32m   1016\u001b[0m     \u001b[0;32melse\u001b[0m\u001b[0;34m:\u001b[0m\u001b[0;34m\u001b[0m\u001b[0m\n\u001b[1;32m   1017\u001b[0m       return self._do_call(_prun_fn, self._session, handle, feed_dict,\n",
      "\u001b[0;32m~/anaconda3/envs/mllab/lib/python3.6/site-packages/tensorflow/python/client/session.py\u001b[0m in \u001b[0;36m_do_call\u001b[0;34m(self, fn, *args)\u001b[0m\n\u001b[1;32m   1020\u001b[0m   \u001b[0;32mdef\u001b[0m \u001b[0m_do_call\u001b[0m\u001b[0;34m(\u001b[0m\u001b[0mself\u001b[0m\u001b[0;34m,\u001b[0m \u001b[0mfn\u001b[0m\u001b[0;34m,\u001b[0m \u001b[0;34m*\u001b[0m\u001b[0margs\u001b[0m\u001b[0;34m)\u001b[0m\u001b[0;34m:\u001b[0m\u001b[0;34m\u001b[0m\u001b[0m\n\u001b[1;32m   1021\u001b[0m     \u001b[0;32mtry\u001b[0m\u001b[0;34m:\u001b[0m\u001b[0;34m\u001b[0m\u001b[0m\n\u001b[0;32m-> 1022\u001b[0;31m       \u001b[0;32mreturn\u001b[0m \u001b[0mfn\u001b[0m\u001b[0;34m(\u001b[0m\u001b[0;34m*\u001b[0m\u001b[0margs\u001b[0m\u001b[0;34m)\u001b[0m\u001b[0;34m\u001b[0m\u001b[0m\n\u001b[0m\u001b[1;32m   1023\u001b[0m     \u001b[0;32mexcept\u001b[0m \u001b[0merrors\u001b[0m\u001b[0;34m.\u001b[0m\u001b[0mOpError\u001b[0m \u001b[0;32mas\u001b[0m \u001b[0me\u001b[0m\u001b[0;34m:\u001b[0m\u001b[0;34m\u001b[0m\u001b[0m\n\u001b[1;32m   1024\u001b[0m       \u001b[0mmessage\u001b[0m \u001b[0;34m=\u001b[0m \u001b[0mcompat\u001b[0m\u001b[0;34m.\u001b[0m\u001b[0mas_text\u001b[0m\u001b[0;34m(\u001b[0m\u001b[0me\u001b[0m\u001b[0;34m.\u001b[0m\u001b[0mmessage\u001b[0m\u001b[0;34m)\u001b[0m\u001b[0;34m\u001b[0m\u001b[0m\n",
      "\u001b[0;32m~/anaconda3/envs/mllab/lib/python3.6/site-packages/tensorflow/python/client/session.py\u001b[0m in \u001b[0;36m_run_fn\u001b[0;34m(session, feed_dict, fetch_list, target_list, options, run_metadata)\u001b[0m\n\u001b[1;32m   1002\u001b[0m         return tf_session.TF_Run(session, options,\n\u001b[1;32m   1003\u001b[0m                                  \u001b[0mfeed_dict\u001b[0m\u001b[0;34m,\u001b[0m \u001b[0mfetch_list\u001b[0m\u001b[0;34m,\u001b[0m \u001b[0mtarget_list\u001b[0m\u001b[0;34m,\u001b[0m\u001b[0;34m\u001b[0m\u001b[0m\n\u001b[0;32m-> 1004\u001b[0;31m                                  status, run_metadata)\n\u001b[0m\u001b[1;32m   1005\u001b[0m \u001b[0;34m\u001b[0m\u001b[0m\n\u001b[1;32m   1006\u001b[0m     \u001b[0;32mdef\u001b[0m \u001b[0m_prun_fn\u001b[0m\u001b[0;34m(\u001b[0m\u001b[0msession\u001b[0m\u001b[0;34m,\u001b[0m \u001b[0mhandle\u001b[0m\u001b[0;34m,\u001b[0m \u001b[0mfeed_dict\u001b[0m\u001b[0;34m,\u001b[0m \u001b[0mfetch_list\u001b[0m\u001b[0;34m)\u001b[0m\u001b[0;34m:\u001b[0m\u001b[0;34m\u001b[0m\u001b[0m\n",
      "\u001b[0;31mKeyboardInterrupt\u001b[0m: "
     ]
    }
   ],
   "source": [
    "model1.compile(loss='categorical_crossentropy', optimizer='rmsprop', metrics=['accuracy'])\n",
    "model1.fit(x_train, y_train, batch_size=256, epochs=400, verbose = 1, callbacks=[plot_losses])"
   ]
  },
  {
   "cell_type": "code",
   "execution_count": 143,
   "metadata": {},
   "outputs": [],
   "source": [
    "# model1.save_weights('model_1-window-5-new.hdf5')"
   ]
  },
  {
   "cell_type": "code",
   "execution_count": 163,
   "metadata": {},
   "outputs": [],
   "source": [
    "model1.load_weights('model_1-window-5-new.hdf5')"
   ]
  },
  {
   "cell_type": "code",
   "execution_count": 336,
   "metadata": {},
   "outputs": [],
   "source": [
    "#initial_phrase = ['start_soneto', 'la', 'tarde', 'brilla' ,'en']\n",
    "#initial_phrase = ['start_soneto', 'el', 'amor', 'es' ,'el']\n",
    "initial_phrase = ['start_soneto', 'recordarás', 'aquella', 'quebrada', 'caprichosa']"
   ]
  },
  {
   "cell_type": "code",
   "execution_count": 337,
   "metadata": {},
   "outputs": [
    {
     "name": "stdout",
     "output_type": "stream",
     "text": [
      "10 86 194 26 195 196 197 3 10 5 198 19 198 44 199 200 10 61 43 16 201 202 203 5 204 28 10 10 190 26 205 5 14 15 202 10 206 62 3 207 5 208 3 10 209 63 137 3 210 109 3 10 211 136 56 187 28 10 10 190 42 212 12 213 3 10 212 5 214 16 43 61 215 3 10 212 56 54 8 61 216 28 10 10 16 191 217 218 56 219 16 220 202 10 221 222 194 98 223 224 10 16 225 226 11 12 227 228 28 10 10 80 "
     ]
    }
   ],
   "source": [
    "predicted_words = [word_to_index[word] for word in initial_phrase]\n",
    "for i in range(200):\n",
    "    pred_word = model1.predict_classes(np.array(predicted_words)[-5:].reshape(1,5))[0]\n",
    "    pred_word = pred_word + 1\n",
    "    print(pred_word, end=' ')\n",
    "    if (word_to_index['end_soneto'] == pred_word):\n",
    "        break\n",
    "    predicted_words.append(pred_word)"
   ]
  },
  {
   "cell_type": "code",
   "execution_count": 339,
   "metadata": {},
   "outputs": [],
   "source": [
    "def words_to_punctuation(decoded_word):\n",
    "    return decoded_word.replace('char_comma', '\\b,').\\\n",
    "              replace('char_dot', '\\b.').\\\n",
    "              replace('char_dos_puntos', '\\b:').\\\n",
    "              replace('char_new_line', '\\n')"
   ]
  },
  {
   "cell_type": "code",
   "execution_count": 340,
   "metadata": {},
   "outputs": [
    {
     "name": "stdout",
     "output_type": "stream",
     "text": [
      " recordarás aquella quebrada caprichosa \n",
      " a donde los aromas palpitantes treparon, \n",
      " de cuando en cuando un pájaro vestido \n",
      " con agua y lentitud: traje de invierno. \n",
      " \n",
      " recordarás los dones de la tierra: \n",
      " irascible fragancia, barro de oro, \n",
      " hierbas del matorral, locas raíces, \n",
      " sortílegas espinas como espadas. \n",
      " \n",
      " recordarás el ramo que trajiste, \n",
      " ramo de sombra y agua con silencio, \n",
      " ramo como una piedra con espuma. \n",
      " \n",
      " y aquella vez fue como nunca y siempre: \n",
      " vamos allí donde no espera nada \n",
      " y hallamos todo lo que está esperando. \n",
      " \n",
      " "
     ]
    }
   ],
   "source": [
    "print(' ', end='')\n",
    "for word_idx in predicted_words:\n",
    "    decoded_word = index_to_word[word_idx]\n",
    "    if decoded_word!='start_soneto':\n",
    "        print(words_to_punctuation(decoded_word)\n",
    "              +\n",
    "              ' ', end='')"
   ]
  },
  {
   "cell_type": "code",
   "execution_count": 168,
   "metadata": {},
   "outputs": [],
   "source": [
    "model_2 = Sequential()\n",
    "model_2.add(Embedding(len(vocab)+1, 64, mask_zero = True, name='Embedding'))"
   ]
  },
  {
   "cell_type": "code",
   "execution_count": 170,
   "metadata": {},
   "outputs": [],
   "source": [
    "model_2.get_layer('Embedding').set_weights(model1.get_layer('embedding_6').get_weights())"
   ]
  },
  {
   "cell_type": "code",
   "execution_count": 190,
   "metadata": {},
   "outputs": [],
   "source": [
    "all_unique_words_coded = np.linspace(1, len(vocab), len(vocab)).astype(int)"
   ]
  },
  {
   "cell_type": "code",
   "execution_count": 300,
   "metadata": {},
   "outputs": [],
   "source": [
    "top_100_common_words = []\n",
    "top_100_common_codes = []\n",
    "for word in dict(Counter(text_array_as_words).most_common(200)).keys():\n",
    "    if (word not in ['char_question_open', 'char_question_close', 'char_new_line', 'char_comma', 'char_dot', 'start_soneto', 'end_soneto', 'char_dos_puntos', 'char_exclamation_open', 'char_exclamation_close']):\n",
    "        top_100_common_words.append(word)\n",
    "        top_100_common_codes.append(word_to_index[word])"
   ]
  },
  {
   "cell_type": "code",
   "execution_count": 301,
   "metadata": {},
   "outputs": [
    {
     "data": {
      "text/plain": [
       "['la',\n",
       " 'de',\n",
       " 'y',\n",
       " 'el',\n",
       " 'que',\n",
       " 'en',\n",
       " 'tu',\n",
       " 'del',\n",
       " 'las',\n",
       " 'a',\n",
       " 'por',\n",
       " 'con',\n",
       " 'no',\n",
       " 'los',\n",
       " 'como',\n",
       " 'un',\n",
       " 'amor',\n",
       " 'mi',\n",
       " 'una',\n",
       " 'tus',\n",
       " 'te',\n",
       " 'se',\n",
       " 'su',\n",
       " 'sin',\n",
       " 'es',\n",
       " 'yo',\n",
       " 'o',\n",
       " 'luz',\n",
       " 'tú',\n",
       " 'tierra',\n",
       " 'agua',\n",
       " 'ojos',\n",
       " 'me',\n",
       " 'mar',\n",
       " 'si',\n",
       " 'noche',\n",
       " 'para',\n",
       " 'sus',\n",
       " 'hasta',\n",
       " 'sólo',\n",
       " 'al',\n",
       " 'corazón',\n",
       " 'eres',\n",
       " 'ni',\n",
       " 'porque',\n",
       " 'cielo',\n",
       " 'fuego',\n",
       " 'sombra',\n",
       " 'amo',\n",
       " 'todo',\n",
       " 'boca',\n",
       " 'sino',\n",
       " 'vida',\n",
       " 'manos',\n",
       " 'oh',\n",
       " 'cuando',\n",
       " 'vez',\n",
       " 'luna',\n",
       " 'día',\n",
       " 'mis',\n",
       " 'donde',\n",
       " 'tiempo',\n",
       " 'así',\n",
       " 'entre',\n",
       " 'sol',\n",
       " 'pan',\n",
       " 'sobre',\n",
       " 'dos',\n",
       " 'lo',\n",
       " 'mí',\n",
       " 'sangre',\n",
       " 'pero',\n",
       " 'desde',\n",
       " 'ser',\n",
       " 'tal',\n",
       " 'quiero',\n",
       " 'sueño',\n",
       " 'voz',\n",
       " 'arena',\n",
       " 'más',\n",
       " 'nos',\n",
       " 'piedra',\n",
       " 'mundo',\n",
       " 'allí',\n",
       " 'trigo',\n",
       " 'nadie',\n",
       " 'sola',\n",
       " 'hacia',\n",
       " 'casa',\n",
       " 'este',\n",
       " 'ya',\n",
       " 'esta',\n",
       " 'río',\n",
       " 'beso',\n",
       " 'mío',\n",
       " 'silencio',\n",
       " 'eso',\n",
       " 'bienamada',\n",
       " 'frío',\n",
       " 'viento',\n",
       " 'azul',\n",
       " 'raíces',\n",
       " 'otoño',\n",
       " 'flor',\n",
       " 'fue',\n",
       " 'aire',\n",
       " 'besos',\n",
       " 'ola',\n",
       " 'sal',\n",
       " 'miel',\n",
       " 'cabellera',\n",
       " 'mano',\n",
       " 'ti',\n",
       " 'sur',\n",
       " 'vino',\n",
       " 'son',\n",
       " 'qué',\n",
       " 'lluvia',\n",
       " 'primavera',\n",
       " 'pronto',\n",
       " 'espuma',\n",
       " 'nada',\n",
       " 'pies',\n",
       " 'era',\n",
       " 'aroma',\n",
       " 'otra',\n",
       " 'muerte',\n",
       " 'mía',\n",
       " 'cuerpo',\n",
       " 'cosas',\n",
       " 'entonces',\n",
       " 'hay',\n",
       " 'verde',\n",
       " 'nombre',\n",
       " 'hojas',\n",
       " 'todas',\n",
       " 'mientras',\n",
       " 'sueños',\n",
       " 'conmigo',\n",
       " 'fin',\n",
       " 'caminos',\n",
       " 'todos',\n",
       " 'dolores',\n",
       " 'camino',\n",
       " 'pasos',\n",
       " 'invierno',\n",
       " 'pura',\n",
       " 'tan',\n",
       " 'ahora',\n",
       " 'sube',\n",
       " 'cae',\n",
       " 'hombre',\n",
       " 'tiene',\n",
       " 'canto',\n",
       " 'hoy',\n",
       " 'risa',\n",
       " 'rostro',\n",
       " 'juntos',\n",
       " 'cómo',\n",
       " 'alma',\n",
       " 'celeste',\n",
       " 'greda',\n",
       " 'perdido',\n",
       " 'claridad',\n",
       " 'ay',\n",
       " 'pecho',\n",
       " 'mañana',\n",
       " 'otros',\n",
       " 'nuestro',\n",
       " 'piel',\n",
       " 'soy',\n",
       " 'mediodía',\n",
       " 'copa',\n",
       " 'madera',\n",
       " 'claveles',\n",
       " 'espinas',\n",
       " 'siempre',\n",
       " 'oscura',\n",
       " 'antes',\n",
       " 'dolor',\n",
       " 'rosa',\n",
       " 'estatua',\n",
       " 'frescura',\n",
       " 'ríos',\n",
       " 'cada',\n",
       " 'uno',\n",
       " 'torre',\n",
       " 'nieve',\n",
       " 'transparente',\n",
       " 'desnuda']"
      ]
     },
     "execution_count": 301,
     "metadata": {},
     "output_type": "execute_result"
    }
   ],
   "source": [
    "top_100_common_words"
   ]
  },
  {
   "cell_type": "code",
   "execution_count": 302,
   "metadata": {},
   "outputs": [],
   "source": [
    "x_train[0]\n",
    "embedded_words = model_2.predict(top_100_common_codes).reshape(len(top_100_common_words), 64)"
   ]
  },
  {
   "cell_type": "code",
   "execution_count": 303,
   "metadata": {},
   "outputs": [
    {
     "data": {
      "text/plain": [
       "(190, 2)"
      ]
     },
     "execution_count": 303,
     "metadata": {},
     "output_type": "execute_result"
    }
   ],
   "source": [
    "from sklearn.manifold import TSNE\n",
    "X_embedded = TSNE(n_components=2).fit_transform(embedded_words)\n",
    "X_embedded.shape"
   ]
  },
  {
   "cell_type": "code",
   "execution_count": 304,
   "metadata": {},
   "outputs": [],
   "source": [
    "from matplotlib import pyplot as plt"
   ]
  },
  {
   "cell_type": "code",
   "execution_count": 305,
   "metadata": {},
   "outputs": [
    {
     "data": {
      "image/png": "[encoded data removed]",
      "text/plain": [
       "<matplotlib.figure.Figure at 0x17c0a12e8>"
      ]
     },
     "metadata": {},
     "output_type": "display_data"
    }
   ],
   "source": [
    "plt.figure(figsize=(20,10))\n",
    "for i, point in enumerate(X_embedded):\n",
    "    plt.scatter(point[0], point[1], c='b', s=1)\n",
    "    plt.text(point[0], point[1], str(top_100_common_words[i]))\n",
    "plt.show()"
   ]
  },
  {
   "cell_type": "code",
   "execution_count": 309,
   "metadata": {},
   "outputs": [],
   "source": [
    "from models import get_model_1_statefull"
   ]
  },
  {
   "cell_type": "code",
   "execution_count": 312,
   "metadata": {},
   "outputs": [],
   "source": [
    "model1s = get_model_1_statefull(len(vocab))"
   ]
  },
  {
   "cell_type": "code",
   "execution_count": 328,
   "metadata": {},
   "outputs": [],
   "source": [
    "model1s.load_weights('model_1-window-5-new.hdf5')"
   ]
  },
  {
   "cell_type": "code",
   "execution_count": 355,
   "metadata": {},
   "outputs": [
    {
     "name": "stdout",
     "output_type": "stream",
     "text": [
      "start_soneto -> cosas -> p = 0.00654018\n",
      "recordarás -> char_comma -> p = 0.638043\n",
      "aquella -> del -> p = 0.225794\n",
      "quebrada -> con -> p = 0.62641\n",
      "caprichosa -> char_new_line -> p = 0.999568\n"
     ]
    }
   ],
   "source": [
    "def predict_list(input_data = ['start_soneto', 'recordarás', 'aquella', 'quebrada', 'caprichosa']):\n",
    "    model1s.reset_states()\n",
    "    for word in input_data:\n",
    "        probs = model1s.predict(np.array(word_to_index[word]).reshape(1,1))[0]\n",
    "        idx = np.argmax(probs)\n",
    "        print(word, '->', index_to_word[idx+1], '-> p =', probs[idx])\n",
    "predict_list()"
   ]
  },
  {
   "cell_type": "code",
   "execution_count": 356,
   "metadata": {},
   "outputs": [
    {
     "name": "stdout",
     "output_type": "stream",
     "text": [
      "start_soneto -> cosas -> p = 0.00654018\n",
      "el -> amor -> p = 0.164128\n",
      "amor -> que -> p = 0.452712\n",
      "es -> como -> p = 0.871238\n",
      "el -> mar -> p = 0.452396\n"
     ]
    }
   ],
   "source": [
    "predict_list(['start_soneto', 'el', 'amor', 'es' ,'el'])"
   ]
  },
  {
   "cell_type": "code",
   "execution_count": 341,
   "metadata": {},
   "outputs": [
    {
     "name": "stdout",
     "output_type": "stream",
     "text": [
      "start_soneto -> cosas -> p = 0.00654018\n",
      "cosas -> char_comma -> p = 0.99968\n",
      "\b, -> amor -> p = 0.55777\n",
      "amor -> char_comma -> p = 0.911444\n",
      "\b, -> char_new_line -> p = 0.170079\n",
      "\n",
      " -> de -> p = 0.531506\n",
      "de -> luna -> p = 0.139134\n",
      "luna -> char_dos_puntos -> p = 0.420289\n",
      "\b: -> char_new_line -> p = 0.92579\n",
      "\n",
      " -> por -> p = 0.168684\n"
     ]
    }
   ],
   "source": [
    "model1s.reset_states()\n",
    "word = 'start_soneto'\n",
    "probs = model1s.predict(np.array(word_to_index[word]).reshape(1,1))[0]\n",
    "for i in range(10):\n",
    "    idx = np.argmax(probs)\n",
    "    pred_word = index_to_word[idx+1]\n",
    "    print(words_to_punctuation(word), '->', pred_word, '-> p =', probs[idx])\n",
    "    word = pred_word\n",
    "    probs = model1s.predict(np.array(word_to_index[word]).reshape(1,1))[0]"
   ]
  },
  {
   "cell_type": "code",
   "execution_count": 359,
   "metadata": {},
   "outputs": [
    {
     "name": "stdout",
     "output_type": "stream",
     "text": [
      "start_soneto -> cosas -> p = 0.00654018\n",
      "recordarás -> char_comma -> p = 0.638043\n",
      "aquella -> del -> p = 0.225794\n",
      "quebrada -> con -> p = 0.62641\n",
      "caprichosa -> char_new_line -> p = 0.999568\n",
      "la escoba que no de no se hojas y en en en en en en la luz y no tú en la no y en el agua de el agua de no se ausencia de tus ojos y tú y tú en el mundo y no sólo te tu signo y no sólo te no te no y tú y tú y no sólo te amo y no sólo te amo y no sólo te amo y no sólo te amo el fuego y no sólo tú de tu ausencia y no sólo tú y tú y tú y tú "
     ]
    }
   ],
   "source": [
    "predict_list()\n",
    "#model1s.reset_states()\n",
    "word = 'start_soneto'\n",
    "probs = model1s.predict(np.array(word_to_index[word]).reshape(1,1))[0]\n",
    "idx = np.argmax(probs)\n",
    "pred_word = index_to_word[idx+1]\n",
    "for i in range(100):\n",
    "    word = pred_word\n",
    "    if word=='end_soneto':\n",
    "        break\n",
    "    probs = model1s.predict(np.array(word_to_index[word]).reshape(1,1))[0]\n",
    "    idx = np.argmax(probs)\n",
    "    print(words_to_punctuation(word), end=' ')\n",
    "    pred_word = index_to_word[idx+1]"
   ]
  },
  {
   "cell_type": "code",
   "execution_count": null,
   "metadata": {},
   "outputs": [],
   "source": [
    "pred_word_idx = np.argsort(probs)[0][::-1] + 1\n",
    "[index_to_word[idx] for idx in pred_word_idx[:3]]"
   ]
  },
  {
   "cell_type": "raw",
   "metadata": {},
   "source": [
    "50 epochs\n",
    "la tarde brilla en la arena, \n",
    " la corazón del mar de las olas, \n",
    " la boca del mar de los pétalos, \n",
    " que amor de amor, \n",
    " \n",
    " tienen los bosques de la boca, a la luz del cielo \n",
    " que se derramen de la vida, \n",
    " la signo del mar de los pétalos, \n",
    " que amor de amor, \n",
    " \n",
    " tienen los bosques de la boca, a la luz del cielo \n",
    " que se derramen de la vida, \n",
    " la signo del mar de los pétalos, \n",
    " \n",
    " que amor de amor, \n",
    " tienen los bosques de la boca, a la luz del cielo \n",
    " que se derramen de la vida, \n",
    " \n",
    " la signo del mar de los pétalos, \n",
    " que amor de amor, \n",
    " tienen los bosques de la boca, a la luz del cielo \n",
    " que se derramen de la vida, \n",
    " la signo del mar de los pétalos, \n",
    " que amor de amor, \n",
    " tienen los bosques de la boca, a la luz del cielo \n",
    " que se derramen de la vida, \n",
    " la signo del mar de los pétalos "
   ]
  },
  {
   "cell_type": "raw",
   "metadata": {},
   "source": [
    "100 epochs\n",
    "1)\n",
    "la tarde brilla en tus manos, \n",
    " de la transmigración del sueño a la ensalada, \n",
    " del reptil enrollado en la manguera. \n",
    " no te costó subir de las raíces \n",
    " \n",
    " cantando con tu sílaba de savia. \n",
    " y aquí estarás primero en flor fragante, \n",
    " el mar tiene sus bosques, \n",
    ", amor, no quiero, amor, te rama quiero sin tus manos \n",
    "\n",
    " como el sol de una copa, \n",
    " curva, sutil, rosada hasta que nace el día \n",
    " y te metes en una sola ola de junio, \n",
    " \n",
    " hasta las estío y que se consuman los sueño. \n",
    " la ola, el amor, ni otra ola.\n",
    " \n",
    "2)\n",
    " el amor es el tiempo que llevas, \n",
    " pido, la noche, el día, \n",
    " hacia la luz del hombre a las piedras. "
   ]
  },
  {
   "cell_type": "raw",
   "metadata": {},
   "source": [
    "150 epochs\n",
    "1)\n",
    "la tarde brilla en la noche y el trigo, \n",
    " a un flor, con una sola harina, \n",
    " cayó el dolor sobre otro dulce rostro \n",
    " y así en la tierra que la virtud de tus patria, \n",
    " \n",
    " se moriré desde tu sueño de amaranto. \n",
    " y aquí estarás primero en flor fragante, \n",
    " en la estatua de un beso convertida, \n",
    " hasta que sol y tierra, sangre y cielo, \n",
    " \n",
    " te otorguen la delicia y la dulzura. \n",
    " en la rama veré tu cabellera, \n",
    " tu signo madurando en el follaje, \n",
    " \n",
    " acercando las hojas a mi sed, \n",
    " y llenará mi boca tu substancia, \n",
    " el beso que subió desde la tierra \n",
    " con tu sangre de fruta enamorada. \n",
    " \n",
    "2) \n",
    "el amor es el ramo que tu que en con la luna \n",
    " que a ti tu voz se jabón, \n",
    " y de la noche entregamos el cielo \n",
    " llevándote y toqué a mis brazos los pétalos, \n",
    " \n",
    " de este amor, amor, no ha terminado, \n",
    " y así como todo el ayer de guitarra sin rumbo o fuego. \n",
    " la luz del hombre toca con una sentidos y. \n",
    " amor, amor, es mío, el mar y adiós, \n",
    " \n",
    " y del amor, mientras de donde dolores, \n",
    " yo desde las esquinas en las calles \n",
    " hasta que comprendí que había encontrado, \n",
    " \n",
    " amor, mi territorio de besos y volcanes.\n"
   ]
  },
  {
   "cell_type": "code",
   "execution_count": null,
   "metadata": {},
   "outputs": [],
   "source": [
    "model1.save_weights('model_1-window-10.hdf5')"
   ]
  },
  {
   "cell_type": "code",
   "execution_count": null,
   "metadata": {},
   "outputs": [],
   "source": [
    "from models import get_model_1"
   ]
  },
  {
   "cell_type": "code",
   "execution_count": null,
   "metadata": {},
   "outputs": [],
   "source": [
    "model_1 = get_model_1(len(set(coded_words)))"
   ]
  },
  {
   "cell_type": "code",
   "execution_count": null,
   "metadata": {},
   "outputs": [],
   "source": [
    "model.summary()"
   ]
  },
  {
   "cell_type": "markdown",
   "metadata": {},
   "source": [
    "# Soneto por soneto"
   ]
  },
  {
   "cell_type": "code",
   "execution_count": 141,
   "metadata": {},
   "outputs": [
    {
     "ename": "NameError",
     "evalue": "name 'words' is not defined",
     "output_type": "error",
     "traceback": [
      "\u001b[0;31m---------------------------------------------------------------------------\u001b[0m",
      "\u001b[0;31mNameError\u001b[0m                                 Traceback (most recent call last)",
      "\u001b[0;32m<ipython-input-141-e083a8feb18e>\u001b[0m in \u001b[0;36m<module>\u001b[0;34m()\u001b[0m\n\u001b[1;32m      1\u001b[0m \u001b[0mwords_by_soneto\u001b[0m \u001b[0;34m=\u001b[0m \u001b[0;34m[\u001b[0m\u001b[0;34m]\u001b[0m\u001b[0;34m\u001b[0m\u001b[0m\n\u001b[1;32m      2\u001b[0m \u001b[0maccum\u001b[0m \u001b[0;34m=\u001b[0m \u001b[0;34m[\u001b[0m\u001b[0;34m]\u001b[0m\u001b[0;34m\u001b[0m\u001b[0m\n\u001b[0;32m----> 3\u001b[0;31m \u001b[0;32mfor\u001b[0m \u001b[0mword\u001b[0m \u001b[0;32min\u001b[0m \u001b[0mwords\u001b[0m\u001b[0;34m:\u001b[0m\u001b[0;34m\u001b[0m\u001b[0m\n\u001b[0m\u001b[1;32m      4\u001b[0m     \u001b[0;32mif\u001b[0m \u001b[0mword\u001b[0m \u001b[0;34m!=\u001b[0m \u001b[0;34m'END_SONETO'\u001b[0m\u001b[0;34m:\u001b[0m\u001b[0;34m\u001b[0m\u001b[0m\n\u001b[1;32m      5\u001b[0m         \u001b[0maccum\u001b[0m\u001b[0;34m.\u001b[0m\u001b[0mappend\u001b[0m\u001b[0;34m(\u001b[0m\u001b[0mword\u001b[0m\u001b[0;34m)\u001b[0m\u001b[0;34m\u001b[0m\u001b[0m\n",
      "\u001b[0;31mNameError\u001b[0m: name 'words' is not defined"
     ]
    }
   ],
   "source": [
    "words_by_soneto = []\n",
    "accum = []\n",
    "for word in words:\n",
    "    if word != 'END_SONETO':\n",
    "        accum.append(word)\n",
    "    else:\n",
    "        words_by_soneto.append(accum)\n",
    "        accum = []"
   ]
  },
  {
   "cell_type": "code",
   "execution_count": null,
   "metadata": {},
   "outputs": [],
   "source": [
    "sonetos_word_frec = []\n",
    "for soneto in words_by_soneto:\n",
    "    sonetos_word_frec.append(len(soneto))"
   ]
  },
  {
   "cell_type": "code",
   "execution_count": null,
   "metadata": {},
   "outputs": [],
   "source": [
    "# Cantidad de palabras de sonetos (max y min)\n",
    "max(sonetos_word_frec), min(sonetos_word_frec)"
   ]
  },
  {
   "cell_type": "code",
   "execution_count": null,
   "metadata": {},
   "outputs": [],
   "source": [
    "vectorizer.vocabulary_['matilde']+1"
   ]
  },
  {
   "cell_type": "code",
   "execution_count": null,
   "metadata": {},
   "outputs": [],
   "source": [
    "# Sonetos codificados (Recordar que se le suma 1 por el tema del masking)\n",
    "coded_sonetos = []\n",
    "for soneto in words_by_soneto:\n",
    "    coded_sonetos.append([vectorizer.vocabulary_[word.lower()]+1 for word in soneto])"
   ]
  },
  {
   "cell_type": "code",
   "execution_count": null,
   "metadata": {},
   "outputs": [],
   "source": [
    "def window_transform_codes_padding_mode(codes):\n",
    "    len_out = len(codes)\n",
    "    \n",
    "    #output_start[-1] = text[:1]\n",
    "    #output_start[len_out-1:len_out-2] = text[0:1]\n",
    "    X = []\n",
    "    y = []\n",
    "    for i in range(len_out):\n",
    "        #X.append()\n",
    "        output_start = [0]*(len_out-1)\n",
    "        output_start[len_out-i-1:len_out] = codes[0:i]\n",
    "        X.append(output_start)\n",
    "        y.append(codes[i])\n",
    "    return X, y"
   ]
  },
  {
   "cell_type": "code",
   "execution_count": null,
   "metadata": {},
   "outputs": [],
   "source": [
    "max_length = max(sonetos_word_frec)\n",
    "X_train = np.array([]).reshape(-1, max_length)\n",
    "y_train = []\n",
    "for coded_soneto in coded_sonetos:\n",
    "    X_son_train, y_son_train = window_transform_codes_padding_mode(coded_soneto)\n",
    "    X_son_train = np.array(X_son_train)\n",
    "    padding = np.zeros((X_son_train.shape[0], max_length - X_son_train.shape[1]))\n",
    "    X_son_train = np.hstack([padding,X_son_train ])\n",
    "    X_train = np.vstack([X_train, X_son_train]).astype(int)\n",
    "    y_train = y_train + y_son_train\n",
    "y_train = np.array(y_train)   "
   ]
  },
  {
   "cell_type": "code",
   "execution_count": null,
   "metadata": {},
   "outputs": [],
   "source": [
    "X_train.shape, y_train.shape"
   ]
  },
  {
   "cell_type": "code",
   "execution_count": null,
   "metadata": {},
   "outputs": [],
   "source": [
    "y_train_cat = to_categorical(y_train)"
   ]
  },
  {
   "cell_type": "code",
   "execution_count": null,
   "metadata": {},
   "outputs": [],
   "source": [
    "y_train_cat.shape"
   ]
  },
  {
   "cell_type": "code",
   "execution_count": null,
   "metadata": {},
   "outputs": [],
   "source": [
    "idx = 1\n",
    "print(np.argmax(y_train_cat[idx]), y_train[idx])\n",
    "X_train[idx+1]"
   ]
  },
  {
   "cell_type": "code",
   "execution_count": null,
   "metadata": {},
   "outputs": [],
   "source": [
    "from models import get_model_4, get_model_4_statefull"
   ]
  },
  {
   "cell_type": "code",
   "execution_count": null,
   "metadata": {},
   "outputs": [],
   "source": [
    "from fnn_helper import PlotLosses\n",
    "model4 = get_model_4(y_train_cat.shape[1])\n",
    "model4.summary()"
   ]
  },
  {
   "cell_type": "code",
   "execution_count": null,
   "metadata": {},
   "outputs": [],
   "source": [
    "plot_losses = PlotLosses(plot_interval=1, evaluate_interval=None)\n",
    "model4.compile(loss='categorical_crossentropy', optimizer='rmsprop', metrics=['accuracy'])\n",
    "model4.fit(X_train, y_train_cat, batch_size=256, epochs=400, verbose = 1, callbacks=[plot_losses])"
   ]
  },
  {
   "cell_type": "code",
   "execution_count": null,
   "metadata": {},
   "outputs": [],
   "source": [
    "model4.compile(loss='categorical_crossentropy', optimizer='rmsprop', metrics=['accuracy'])"
   ]
  },
  {
   "cell_type": "code",
   "execution_count": null,
   "metadata": {},
   "outputs": [],
   "source": [
    "model4.evaluate(X_train, y_train_cat)"
   ]
  },
  {
   "cell_type": "code",
   "execution_count": null,
   "metadata": {},
   "outputs": [],
   "source": [
    "# model4.save_weights('model4-1.hdf5')"
   ]
  },
  {
   "cell_type": "code",
   "execution_count": null,
   "metadata": {},
   "outputs": [],
   "source": [
    "vectorizer.get_feature_names()[2202-1]"
   ]
  },
  {
   "cell_type": "code",
   "execution_count": null,
   "metadata": {},
   "outputs": [],
   "source": [
    "index = 10\n",
    "to_predict = X_train[0:index]\n",
    "prediction = model4.predict(to_predict)\n",
    "for i,words in enumerate(to_predict):\n",
    "    if (sum(words)==0):\n",
    "        print('pad',end=' ')\n",
    "    else:\n",
    "        for c in words:\n",
    "            if c!= 0:\n",
    "                #print(c)\n",
    "                print(vectorizer.get_feature_names()[c-1], end=' ')\n",
    "            #print(vectorizer.get_feature_names()[np.argmax(word)+1])\n",
    "            #print(np.argmax(word))\n",
    "            #print(word)\n",
    "    print('-> ', end='')\n",
    "    first = prediction[i]\n",
    "    print(np.argmax(first), np.max(first), vectorizer.get_feature_names()[np.argmax(first)-1])\n",
    "    print()\n"
   ]
  },
  {
   "cell_type": "code",
   "execution_count": null,
   "metadata": {},
   "outputs": [],
   "source": [
    "model4s = get_model_4_statefull(y_train_cat.shape[1])"
   ]
  },
  {
   "cell_type": "code",
   "execution_count": null,
   "metadata": {},
   "outputs": [],
   "source": [
    "model4s.load_weights('model4-1.hdf5')"
   ]
  },
  {
   "cell_type": "code",
   "execution_count": null,
   "metadata": {},
   "outputs": [],
   "source": [
    "X_train[-1][61:62]"
   ]
  },
  {
   "cell_type": "code",
   "execution_count": null,
   "metadata": {},
   "outputs": [],
   "source": [
    "model4s.reset_states()\n",
    "pred = model4s.predict(X_train[-1][61:62])"
   ]
  },
  {
   "cell_type": "code",
   "execution_count": null,
   "metadata": {},
   "outputs": [],
   "source": [
    "np.argmax(pred), np.max(pred)"
   ]
  }
 ],
 "metadata": {
  "kernelspec": {
   "display_name": "Python 3",
   "language": "python",
   "name": "python3"
  },
  "language_info": {
   "codemirror_mode": {
    "name": "ipython",
    "version": 3
   },
   "file_extension": ".py",
   "mimetype": "text/x-python",
   "name": "python",
   "nbconvert_exporter": "python",
   "pygments_lexer": "ipython3",
   "version": "3.6.2"
  }
 },
 "nbformat": 4,
 "nbformat_minor": 2
}
