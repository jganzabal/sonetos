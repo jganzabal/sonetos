{
 "cells": [
  {
   "cell_type": "code",
   "execution_count": 217,
   "metadata": {},
   "outputs": [
    {
     "name": "stdout",
     "output_type": "stream",
     "text": [
      "The autoreload extension is already loaded. To reload it, use:\n",
      "  %reload_ext autoreload\n"
     ]
    }
   ],
   "source": [
    "%load_ext autoreload\n",
    "%autoreload 2"
   ]
  },
  {
   "cell_type": "code",
   "execution_count": 218,
   "metadata": {},
   "outputs": [],
   "source": [
    "import numpy as np\n",
    "sonetos = np.load('sonetosSigloXIX.npy')"
   ]
  },
  {
   "cell_type": "code",
   "execution_count": 219,
   "metadata": {},
   "outputs": [
    {
     "data": {
      "text/plain": [
       "(2695,)"
      ]
     },
     "execution_count": 219,
     "metadata": {},
     "output_type": "execute_result"
    }
   ],
   "source": [
    "sonetos.shape"
   ]
  },
  {
   "cell_type": "code",
   "execution_count": 220,
   "metadata": {},
   "outputs": [],
   "source": [
    "from models import replace_chars\n",
    "input_text = []\n",
    "target_text = []\n",
    "for soneto in sonetos:\n",
    "    soneto = replace_chars(soneto.lower())\n",
    "    input_text.append('<sos> ' + soneto)\n",
    "    target_text.append(soneto + ' <eos>')"
   ]
  },
  {
   "cell_type": "code",
   "execution_count": 221,
   "metadata": {},
   "outputs": [
    {
     "data": {
      "text/plain": [
       "'<sos> y miras a jesús char_comma  virgen maría char_exclamation_close  char_new_line y latiendo tu pecho de quebranto char_new_line a mares viertes congojoso llanto char_new_line y aun brama de furor la turna impía char_exclamation_close  char_new_line  char_new_line  char_exclamation_open y goza contemplando su agonía char_comma  char_new_line y no se abate de mortal espanto char_exclamation_close  char_dot  char_dot  char_dot  char_new_line  char_exclamation_open y al ver la pena en tu semblante santo char_new_line su alma a la piedad se ostenta fría char_exclamation_close  char_new_line  char_new_line  char_question_open mas char_comma  quién char_comma   char_exclamation_open maría char_exclamation_close  brindará consuelo char_new_line a la honda angustia que en tu ser impera char_comma  char_new_line si ella cubre a la vez de luto el cielo char_question_close  char_new_line  char_new_line  char_exclamation_open y es tan ardiente y tan profunda y fiera char_comma  char_new_line que si al mundo asaltase tanto duelo char_comma  char_new_line roto en pedazos con fragor muriera char_exclamation_close  char_new_line  char_new_line '"
      ]
     },
     "execution_count": 221,
     "metadata": {},
     "output_type": "execute_result"
    }
   ],
   "source": [
    "input_text[2]"
   ]
  },
  {
   "cell_type": "code",
   "execution_count": 222,
   "metadata": {},
   "outputs": [],
   "source": [
    "from keras.preprocessing.text import Tokenizer\n",
    "from keras.preprocessing.sequence import pad_sequences"
   ]
  },
  {
   "cell_type": "code",
   "execution_count": 223,
   "metadata": {},
   "outputs": [],
   "source": [
    "tokenizer = Tokenizer(filters='')\n",
    "tokenizer.fit_on_texts(input_text + target_text)"
   ]
  },
  {
   "cell_type": "code",
   "execution_count": 224,
   "metadata": {},
   "outputs": [],
   "source": [
    "input_sonetos = tokenizer.texts_to_sequences(input_text)\n",
    "target_sonetos = tokenizer.texts_to_sequences(target_text)"
   ]
  },
  {
   "cell_type": "code",
   "execution_count": 225,
   "metadata": {},
   "outputs": [
    {
     "data": {
      "text/plain": [
       "24679"
      ]
     },
     "execution_count": 225,
     "metadata": {},
     "output_type": "execute_result"
    }
   ],
   "source": [
    "len(tokenizer.word_index)"
   ]
  },
  {
   "cell_type": "code",
   "execution_count": 226,
   "metadata": {},
   "outputs": [
    {
     "data": {
      "text/plain": [
       "28"
      ]
     },
     "execution_count": 226,
     "metadata": {},
     "output_type": "execute_result"
    }
   ],
   "source": [
    "tokenizer.word_index['<eos>']"
   ]
  },
  {
   "cell_type": "code",
   "execution_count": 227,
   "metadata": {},
   "outputs": [
    {
     "name": "stdout",
     "output_type": "stream",
     "text": [
      "[27, 12122, 9, 51, 386, 277, 12123, 2, 1, 69]\n",
      "[12122, 9, 51, 386, 277, 12123, 2, 1, 69, 38]\n"
     ]
    }
   ],
   "source": [
    "print(input_sonetos[0][:10])\n",
    "print(target_sonetos[0][:10])"
   ]
  },
  {
   "cell_type": "code",
   "execution_count": 228,
   "metadata": {},
   "outputs": [
    {
     "name": "stdout",
     "output_type": "stream",
     "text": [
      "[25, 3827, 8, 22, 3374, 4, 2283, 3, 1, 1]\n",
      "[3827, 8, 22, 3374, 4, 2283, 3, 1, 1, 28]\n"
     ]
    }
   ],
   "source": [
    "print(input_sonetos[0][-10:])\n",
    "print(target_sonetos[0][-10:])"
   ]
  },
  {
   "cell_type": "code",
   "execution_count": 229,
   "metadata": {},
   "outputs": [
    {
     "data": {
      "text/plain": [
       "(138, 138)"
      ]
     },
     "execution_count": 229,
     "metadata": {},
     "output_type": "execute_result"
    }
   ],
   "source": [
    "len(input_sonetos[0]), len(target_sonetos[0])"
   ]
  },
  {
   "cell_type": "code",
   "execution_count": 230,
   "metadata": {},
   "outputs": [],
   "source": [
    "MAX_LEN = max([len(soneto) for soneto in input_sonetos])"
   ]
  },
  {
   "cell_type": "code",
   "execution_count": 231,
   "metadata": {},
   "outputs": [],
   "source": [
    "VOCAB_SIZE = len(tokenizer.word_index)"
   ]
  },
  {
   "cell_type": "code",
   "execution_count": 232,
   "metadata": {},
   "outputs": [
    {
     "data": {
      "text/plain": [
       "24679"
      ]
     },
     "execution_count": 232,
     "metadata": {},
     "output_type": "execute_result"
    }
   ],
   "source": [
    "VOCAB_SIZE"
   ]
  },
  {
   "cell_type": "code",
   "execution_count": 233,
   "metadata": {},
   "outputs": [],
   "source": [
    "input_sonetos_padded = pad_sequences(input_sonetos, maxlen=MAX_LEN, padding='post')\n",
    "target_sonetos_padded = pad_sequences(target_sonetos, maxlen=MAX_LEN, padding='post')"
   ]
  },
  {
   "cell_type": "code",
   "execution_count": 234,
   "metadata": {},
   "outputs": [
    {
     "name": "stdout",
     "output_type": "stream",
     "text": [
      "[   27 12122     9    51   386   277 12123     2     1    69    38  1009\n",
      "    48  1196     2     5 12124     3     1   629    26  2280     2   585\n",
      "     2     8   102    63  1814     2     1     9    23   175     9   686\n",
      "     4   122  8226     3     1     1    35  4396     9     4    51   305\n",
      "  8227     2     1     9     7   205  2719     5  2461    69  8228     1\n",
      "    44     2   606 12125     2 12126    36     1    19    94  2281     9\n",
      "    41  2282     2    25  8229    18     1     1   540    10   460     3\n",
      " 12127     2   585   109     3     1    80  2280    23    26     2 12128\n",
      "     2    32   607     3     1   276   111     2    94  8230   386    47\n",
      "   282  5236     3     1     1   777     2  5237     2   257   156  5238\n",
      "     2     1    44 12129 12130     2 12131     1    25  3827     8    22\n",
      "  3374     4  2283     3     1     1     0     0     0     0     0     0\n",
      "     0     0     0     0     0     0]\n",
      "[12122     9    51   386   277 12123     2     1    69    38  1009    48\n",
      "  1196     2     5 12124     3     1   629    26  2280     2   585     2\n",
      "     8   102    63  1814     2     1     9    23   175     9   686     4\n",
      "   122  8226     3     1     1    35  4396     9     4    51   305  8227\n",
      "     2     1     9     7   205  2719     5  2461    69  8228     1    44\n",
      "     2   606 12125     2 12126    36     1    19    94  2281     9    41\n",
      "  2282     2    25  8229    18     1     1   540    10   460     3 12127\n",
      "     2   585   109     3     1    80  2280    23    26     2 12128     2\n",
      "    32   607     3     1   276   111     2    94  8230   386    47   282\n",
      "  5236     3     1     1   777     2  5237     2   257   156  5238     2\n",
      "     1    44 12129 12130     2 12131     1    25  3827     8    22  3374\n",
      "     4  2283     3     1     1    28     0     0     0     0     0     0\n",
      "     0     0     0     0     0     0]\n"
     ]
    }
   ],
   "source": [
    "print(input_sonetos_padded[0][:150])\n",
    "print(target_sonetos_padded[0][:150])"
   ]
  },
  {
   "cell_type": "code",
   "execution_count": 235,
   "metadata": {},
   "outputs": [],
   "source": [
    "from keras.utils import to_categorical"
   ]
  },
  {
   "cell_type": "code",
   "execution_count": 236,
   "metadata": {},
   "outputs": [
    {
     "data": {
      "text/plain": [
       "(2695, 187)"
      ]
     },
     "execution_count": 236,
     "metadata": {},
     "output_type": "execute_result"
    }
   ],
   "source": [
    "target_sonetos_padded.shape"
   ]
  },
  {
   "cell_type": "code",
   "execution_count": 237,
   "metadata": {},
   "outputs": [],
   "source": [
    "NUM_SONETOS = 500"
   ]
  },
  {
   "cell_type": "code",
   "execution_count": 238,
   "metadata": {},
   "outputs": [],
   "source": [
    "target_sonetos_padded_cat = to_categorical(target_sonetos_padded[:NUM_SONETOS]-1, \n",
    "                                           num_classes=VOCAB_SIZE)"
   ]
  },
  {
   "cell_type": "code",
   "execution_count": 239,
   "metadata": {},
   "outputs": [
    {
     "data": {
      "text/plain": [
       "(500, 187, 24679)"
      ]
     },
     "execution_count": 239,
     "metadata": {},
     "output_type": "execute_result"
    }
   ],
   "source": [
    "target_sonetos_padded_cat.shape"
   ]
  },
  {
   "cell_type": "code",
   "execution_count": 240,
   "metadata": {},
   "outputs": [
    {
     "data": {
      "text/plain": [
       "(2695, 187)"
      ]
     },
     "execution_count": 240,
     "metadata": {},
     "output_type": "execute_result"
    }
   ],
   "source": [
    "input_sonetos_padded.shape"
   ]
  },
  {
   "cell_type": "code",
   "execution_count": 241,
   "metadata": {},
   "outputs": [
    {
     "data": {
      "text/plain": [
       "(2695, 187)"
      ]
     },
     "execution_count": 241,
     "metadata": {},
     "output_type": "execute_result"
    }
   ],
   "source": [
    "target_sonetos_padded.shape"
   ]
  },
  {
   "cell_type": "code",
   "execution_count": 242,
   "metadata": {},
   "outputs": [
    {
     "data": {
      "text/plain": [
       "array([[1., 0., 0., 0., 0., 0., 0., 0., 0., 0.],\n",
       "       [0., 1., 0., 0., 0., 0., 0., 0., 0., 0.],\n",
       "       [0., 0., 1., 0., 0., 0., 0., 0., 0., 0.],\n",
       "       [0., 0., 0., 0., 0., 0., 0., 0., 0., 1.]], dtype=float32)"
      ]
     },
     "execution_count": 242,
     "metadata": {},
     "output_type": "execute_result"
    }
   ],
   "source": [
    "to_categorical(np.array([1, 2, 3,10])-1, num_classes = 10)"
   ]
  },
  {
   "cell_type": "code",
   "execution_count": 243,
   "metadata": {},
   "outputs": [],
   "source": [
    "def generator(input_sonetos_padded, target_sonetos_padded, batch_size = 16):\n",
    " # Create empty arrays to contain batch of features and labels#\n",
    " batch_features = np.zeros((batch_size, 64, 64, 3))\n",
    " batch_labels = np.zeros((batch_size,1))\n",
    " while True:\n",
    "    indexes = np.random.choice(len(input_sonetos_padded), batch_size, replace=False)\n",
    "    batch_features = input_sonetos_padded[indexes]\n",
    "    batch_labels = to_categorical(target_sonetos_padded[indexes]-1, num_classes=VOCAB_SIZE)\n",
    "    yield batch_features, batch_labels"
   ]
  },
  {
   "cell_type": "code",
   "execution_count": 244,
   "metadata": {},
   "outputs": [],
   "source": [
    "from DataGenerator import DataGenerator"
   ]
  },
  {
   "cell_type": "code",
   "execution_count": 245,
   "metadata": {},
   "outputs": [
    {
     "name": "stdout",
     "output_type": "stream",
     "text": [
      "Epoch ended, reseting indexes\n",
      "[[   27 12122     9 ...     0     0     0]\n",
      " [   27    48   312 ...     0     0     0]\n",
      " [   27     5  3007 ...     0     0     0]\n",
      " ...\n",
      " [   27  2293 12173 ...     0     0     0]\n",
      " [   27    35  6364 ...     0     0     0]\n",
      " [   27  6367    31 ...     0     0     0]] (16, 187, 24679)\n",
      "[[   27    84    34 ...     0     0     0]\n",
      " [   27    11  1159 ...     0     0     0]\n",
      " [   27  1734  2475 ...     0     0     0]\n",
      " ...\n",
      " [   27    38   780 ...     0     0     0]\n",
      " [   27 12238    91 ...     0     0     0]\n",
      " [   27  1565     5 ...     0     0     0]] (16, 187, 24679)\n",
      "[[  27 6392    7 ...    0    0    0]\n",
      " [  27 5281 6399 ...    0    0    0]\n",
      " [  27   42    8 ...    0    0    0]\n",
      " ...\n",
      " [  27   95   32 ...    0    0    0]\n",
      " [  27  892 1156 ...    0    0    0]\n",
      " [  27   23  831 ...    0    0    0]] (16, 187, 24679)\n"
     ]
    }
   ],
   "source": [
    "gen = DataGenerator(input_sonetos_padded, target_sonetos_padded, VOCAB_SIZE, shuffle=False)\n",
    "i = 0\n",
    "for g in gen:\n",
    "    print(g[0], g[1].shape)\n",
    "    i = i+ 1\n",
    "    if i == 3:\n",
    "        break;"
   ]
  },
  {
   "cell_type": "code",
   "execution_count": 246,
   "metadata": {},
   "outputs": [
    {
     "data": {
      "text/plain": [
       "array([   27,  6392,     7,  6393,  2293,     2,     7,   381,     2,\n",
       "          14, 12248,     1,     9,    38,    11,  6394,  5280,     1,\n",
       "          23,  8308, 12249,     6,  1062,     1,    53,  8309,    15,\n",
       "       12250,     8,     7, 12251,     3,     1,     1,   781,    10,\n",
       "           6,  6395,     2,     5,     7,  6396,     1,   389,   222,\n",
       "           6, 12252, 12253,     2,     1,     5,     7,   381,   406,\n",
       "           8,    98, 12254,     1,    35,    25,    54,    23,   284,\n",
       "        1943,   144, 12255,    36,     1,     1,  1014,     6,  6394,\n",
       "           9,    23,   156,     1,     7,  1483,  1961,  3413,  8310,\n",
       "           2,     1,  6397,    31,  1838,     7,  2310,     8,    17,\n",
       "        4429,     3,     1,     1,  2491,   381,   138,     2,   406,\n",
       "           7,  6393,  2293,    12,     1,    80,    26,  1943,  3043,\n",
       "        6398,  6394,     1,     4,   434,  1950,    20,    70,    14,\n",
       "        3044,     3,     1,     1,     0,     0,     0,     0,     0,\n",
       "           0,     0,     0,     0,     0,     0,     0,     0,     0,\n",
       "           0,     0,     0,     0,     0,     0,     0,     0,     0,\n",
       "           0,     0,     0,     0,     0,     0,     0,     0,     0,\n",
       "           0,     0,     0,     0,     0,     0,     0,     0,     0,\n",
       "           0,     0,     0,     0,     0,     0,     0,     0,     0,\n",
       "           0,     0,     0,     0,     0,     0,     0,     0,     0,\n",
       "           0,     0,     0,     0,     0,     0,     0], dtype=int32)"
      ]
     },
     "execution_count": 246,
     "metadata": {},
     "output_type": "execute_result"
    }
   ],
   "source": [
    "input_sonetos_padded[32]"
   ]
  },
  {
   "cell_type": "code",
   "execution_count": 247,
   "metadata": {},
   "outputs": [
    {
     "name": "stdout",
     "output_type": "stream",
     "text": [
      "[[   27  4423    13 ...     0     0     0]\n",
      " [   27   658     2 ...     0     0     0]\n",
      " [   27    25    54 ...     0     0     0]\n",
      " ...\n",
      " [   27    35   803 ...     0     0     0]\n",
      " [   27 20635     8 ...     0     0     0]\n",
      " [   27  2137   304 ...     0     0     0]] (16, 187, 24679)\n"
     ]
    }
   ],
   "source": [
    "gen = generator(input_sonetos_padded, target_sonetos_padded)\n",
    "for g in gen:\n",
    "    print(g[0], g[1].shape)\n",
    "    break;"
   ]
  },
  {
   "cell_type": "code",
   "execution_count": 248,
   "metadata": {},
   "outputs": [],
   "source": [
    "from keras.models import Sequential\n",
    "from keras.optimizers import Adam\n",
    "from keras.layers import Embedding, LSTM, Dense"
   ]
  },
  {
   "cell_type": "code",
   "execution_count": 265,
   "metadata": {},
   "outputs": [
    {
     "name": "stdout",
     "output_type": "stream",
     "text": [
      "_________________________________________________________________\n",
      "Layer (type)                 Output Shape              Param #   \n",
      "=================================================================\n",
      "embedding_22 (Embedding)     (None, None, 64)          1579520   \n",
      "_________________________________________________________________\n",
      "lstm_22 (LSTM)               (None, None, 128)         98816     \n",
      "_________________________________________________________________\n",
      "dense_22 (Dense)             (None, None, 24679)       3183591   \n",
      "=================================================================\n",
      "Total params: 4,861,927\n",
      "Trainable params: 4,861,927\n",
      "Non-trainable params: 0\n",
      "_________________________________________________________________\n"
     ]
    }
   ],
   "source": [
    "word_dim = 64\n",
    "lstm_units = 128\n",
    "model = Sequential()\n",
    "model.add(Embedding(VOCAB_SIZE+1, word_dim, mask_zero = True))\n",
    "model.add(LSTM(lstm_units, return_sequences=True))\n",
    "model.add(Dense(VOCAB_SIZE, activation=\"softmax\"))\n",
    "model.summary()"
   ]
  },
  {
   "cell_type": "code",
   "execution_count": 266,
   "metadata": {},
   "outputs": [],
   "source": [
    "optim = Adam(lr=0.1)"
   ]
  },
  {
   "cell_type": "code",
   "execution_count": null,
   "metadata": {},
   "outputs": [
    {
     "data": {
      "image/png": "[encoded data removed]",
      "text/plain": [
       "<Figure size 1440x360 with 2 Axes>"
      ]
     },
     "metadata": {},
     "output_type": "display_data"
    },
    {
     "name": "stdout",
     "output_type": "stream",
     "text": [
      "Epoch 710/2000\n",
      "115/168 [===================>..........] - ETA: 21s - loss: 6.4345 - acc: 0.2105"
     ]
    }
   ],
   "source": [
    "from fnn_helper import PlotLosses\n",
    "batch_size = 16\n",
    "plot_losses = PlotLosses(plot_interval=1, evaluate_interval=None)\n",
    "model.compile(loss='categorical_crossentropy', optimizer=optim, metrics=['accuracy'])\n",
    "#model.fit(input_sonetos_padded[:NUM_SONETOS], \n",
    "#          target_sonetos_padded_cat, \n",
    "#          batch_size=batch_size, epochs=200, verbose = 1, callbacks=[plot_losses])\n",
    "model.fit_generator(generator(input_sonetos_padded, target_sonetos_padded, batch_size = batch_size),\n",
    "                    steps_per_epoch=int(len(input_sonetos_padded)/batch_size), \n",
    "                    epochs=2000,\n",
    "                    callbacks=[plot_losses])\n",
    "\n",
    "# model.fit_generator(DataGenerator(input_sonetos_padded, target_sonetos_padded, VOCAB_SIZE, batch_size = batch_size, shuffle=False),\n",
    "#                     steps_per_epoch=int(len(input_sonetos_padded)/batch_size), \n",
    "#                     epochs=2000,\n",
    "#                     callbacks=[plot_losses])"
   ]
  },
  {
   "cell_type": "code",
   "execution_count": null,
   "metadata": {},
   "outputs": [],
   "source": [
    "file_name = 'SonetosSigloXIX-882-adam-0.1-random_generator-16'"
   ]
  },
  {
   "cell_type": "code",
   "execution_count": 216,
   "metadata": {},
   "outputs": [],
   "source": [
    "model.save_weights('weights'+file_name+'.hdf5')\n",
    "np.save('acc_history'+file_name, plot_losses.acc)\n",
    "np.save('loss_history'+file_name, plot_losses.losses)"
   ]
  },
  {
   "cell_type": "code",
   "execution_count": 214,
   "metadata": {},
   "outputs": [
    {
     "data": {
      "text/plain": [
       "<keras.engine.sequential.Sequential at 0x7fa21ef58ef0>"
      ]
     },
     "execution_count": 214,
     "metadata": {},
     "output_type": "execute_result"
    }
   ],
   "source": [
    "model"
   ]
  },
  {
   "cell_type": "code",
   "execution_count": 131,
   "metadata": {},
   "outputs": [],
   "source": []
  }
 ],
 "metadata": {
  "kernelspec": {
   "display_name": "Python 3",
   "language": "python",
   "name": "python3"
  },
  "language_info": {
   "codemirror_mode": {
    "name": "ipython",
    "version": 3
   },
   "file_extension": ".py",
   "mimetype": "text/x-python",
   "name": "python",
   "nbconvert_exporter": "python",
   "pygments_lexer": "ipython3",
   "version": "3.6.6"
  }
 },
 "nbformat": 4,
 "nbformat_minor": 2
}
